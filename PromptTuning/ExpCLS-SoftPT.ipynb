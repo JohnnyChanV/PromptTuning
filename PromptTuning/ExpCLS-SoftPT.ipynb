{
 "cells": [
  {
   "cell_type": "code",
   "execution_count": 7,
   "id": "625481c2-5cfe-4bf2-8a87-20eeafba9c5e",
   "metadata": {},
   "outputs": [],
   "source": [
    "import json\n",
    "import pandas as pd\n",
    "SEMANTIC_LABEL = {\n",
    "    0:\"<answer>Without Explanation</answer>\",\n",
    "    1:\"<answer>With Explanation</answer>\"\n",
    "}"
   ]
  },
  {
   "cell_type": "code",
   "execution_count": 6,
   "id": "4727e4e6-9d0f-4aab-ab04-e725e4805f47",
   "metadata": {},
   "outputs": [],
   "source": [
    "train_data = json.load(open(\"RAG_data/proc_ret_data.json\",'r'))\n",
    "for item in train_data:\n",
    "    item['sem_label'] = SEMANTIC_LABEL[item['label']]"
   ]
  },
  {
   "cell_type": "code",
   "execution_count": null,
   "id": "956dcc42-4eb6-4757-82d8-57422089b4d2",
   "metadata": {},
   "outputs": [],
   "source": []
  }
 ],
 "metadata": {
  "kernelspec": {
   "display_name": "Python 3 (ipykernel)",
   "language": "python",
   "name": "python3"
  },
  "language_info": {
   "codemirror_mode": {
    "name": "ipython",
    "version": 3
   },
   "file_extension": ".py",
   "mimetype": "text/x-python",
   "name": "python",
   "nbconvert_exporter": "python",
   "pygments_lexer": "ipython3",
   "version": "3.9.23"
  }
 },
 "nbformat": 4,
 "nbformat_minor": 5
}
